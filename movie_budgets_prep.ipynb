{
 "cells": [
  {
   "cell_type": "code",
   "execution_count": 1,
   "id": "1ee12987",
   "metadata": {},
   "outputs": [],
   "source": [
    "# import packages\n",
    "import pandas as pd\n",
    "import numpy as np\n",
    "import matplotlib.pyplot as plt\n",
    "import seaborn as sns\n",
    "from ast import literal_eval"
   ]
  },
  {
   "cell_type": "code",
   "execution_count": 2,
   "id": "599fbfe5",
   "metadata": {},
   "outputs": [],
   "source": [
    "# reading in the csv file\n",
    "df_budgets = pd.read_csv('/Users/jdapeman/Documents/Flatiron/microsoft_eda/data/tn.movie_budgets.csv')"
   ]
  },
  {
   "cell_type": "code",
   "execution_count": 3,
   "id": "93ee8ced",
   "metadata": {},
   "outputs": [
    {
     "data": {
      "text/html": [
       "<div>\n",
       "<style scoped>\n",
       "    .dataframe tbody tr th:only-of-type {\n",
       "        vertical-align: middle;\n",
       "    }\n",
       "\n",
       "    .dataframe tbody tr th {\n",
       "        vertical-align: top;\n",
       "    }\n",
       "\n",
       "    .dataframe thead th {\n",
       "        text-align: right;\n",
       "    }\n",
       "</style>\n",
       "<table border=\"1\" class=\"dataframe\">\n",
       "  <thead>\n",
       "    <tr style=\"text-align: right;\">\n",
       "      <th></th>\n",
       "      <th>id</th>\n",
       "    </tr>\n",
       "  </thead>\n",
       "  <tbody>\n",
       "    <tr>\n",
       "      <th>count</th>\n",
       "      <td>5782.0</td>\n",
       "    </tr>\n",
       "    <tr>\n",
       "      <th>mean</th>\n",
       "      <td>50.4</td>\n",
       "    </tr>\n",
       "    <tr>\n",
       "      <th>std</th>\n",
       "      <td>28.8</td>\n",
       "    </tr>\n",
       "    <tr>\n",
       "      <th>min</th>\n",
       "      <td>1.0</td>\n",
       "    </tr>\n",
       "    <tr>\n",
       "      <th>25%</th>\n",
       "      <td>25.0</td>\n",
       "    </tr>\n",
       "    <tr>\n",
       "      <th>50%</th>\n",
       "      <td>50.0</td>\n",
       "    </tr>\n",
       "    <tr>\n",
       "      <th>75%</th>\n",
       "      <td>75.0</td>\n",
       "    </tr>\n",
       "    <tr>\n",
       "      <th>max</th>\n",
       "      <td>100.0</td>\n",
       "    </tr>\n",
       "  </tbody>\n",
       "</table>\n",
       "</div>"
      ],
      "text/plain": [
       "           id\n",
       "count  5782.0\n",
       "mean     50.4\n",
       "std      28.8\n",
       "min       1.0\n",
       "25%      25.0\n",
       "50%      50.0\n",
       "75%      75.0\n",
       "max     100.0"
      ]
     },
     "execution_count": 3,
     "metadata": {},
     "output_type": "execute_result"
    }
   ],
   "source": [
    "np.round(df_budgets.describe(), decimals=1)"
   ]
  },
  {
   "cell_type": "code",
   "execution_count": 4,
   "id": "c425f148",
   "metadata": {},
   "outputs": [],
   "source": [
    "# sorting the data frame by movie title\n",
    "df_budgets.sort_values(by=['movie'], inplace=True)"
   ]
  },
  {
   "cell_type": "code",
   "execution_count": 5,
   "id": "6543d531",
   "metadata": {},
   "outputs": [
    {
     "data": {
      "text/html": [
       "<div>\n",
       "<style scoped>\n",
       "    .dataframe tbody tr th:only-of-type {\n",
       "        vertical-align: middle;\n",
       "    }\n",
       "\n",
       "    .dataframe tbody tr th {\n",
       "        vertical-align: top;\n",
       "    }\n",
       "\n",
       "    .dataframe thead th {\n",
       "        text-align: right;\n",
       "    }\n",
       "</style>\n",
       "<table border=\"1\" class=\"dataframe\">\n",
       "  <thead>\n",
       "    <tr style=\"text-align: right;\">\n",
       "      <th></th>\n",
       "      <th>id</th>\n",
       "      <th>release_date</th>\n",
       "      <th>movie</th>\n",
       "      <th>production_budget</th>\n",
       "      <th>domestic_gross</th>\n",
       "      <th>worldwide_gross</th>\n",
       "    </tr>\n",
       "  </thead>\n",
       "  <tbody>\n",
       "    <tr>\n",
       "      <th>5115</th>\n",
       "      <td>16</td>\n",
       "      <td>Nov 20, 2015</td>\n",
       "      <td>#Horror</td>\n",
       "      <td>$1,500,000</td>\n",
       "      <td>$0</td>\n",
       "      <td>$0</td>\n",
       "    </tr>\n",
       "    <tr>\n",
       "      <th>3954</th>\n",
       "      <td>55</td>\n",
       "      <td>Jul 17, 2009</td>\n",
       "      <td>(500) Days of Summer</td>\n",
       "      <td>$7,500,000</td>\n",
       "      <td>$32,425,665</td>\n",
       "      <td>$34,439,060</td>\n",
       "    </tr>\n",
       "    <tr>\n",
       "      <th>4253</th>\n",
       "      <td>54</td>\n",
       "      <td>Mar 11, 2016</td>\n",
       "      <td>10 Cloverfield Lane</td>\n",
       "      <td>$5,000,000</td>\n",
       "      <td>$72,082,999</td>\n",
       "      <td>$108,286,422</td>\n",
       "    </tr>\n",
       "    <tr>\n",
       "      <th>3447</th>\n",
       "      <td>48</td>\n",
       "      <td>Nov 11, 2015</td>\n",
       "      <td>10 Days in a Madhouse</td>\n",
       "      <td>$12,000,000</td>\n",
       "      <td>$14,616</td>\n",
       "      <td>$14,616</td>\n",
       "    </tr>\n",
       "    <tr>\n",
       "      <th>3262</th>\n",
       "      <td>63</td>\n",
       "      <td>Mar 31, 1999</td>\n",
       "      <td>10 Things I Hate About You</td>\n",
       "      <td>$13,000,000</td>\n",
       "      <td>$38,177,966</td>\n",
       "      <td>$60,413,950</td>\n",
       "    </tr>\n",
       "    <tr>\n",
       "      <th>...</th>\n",
       "      <td>...</td>\n",
       "      <td>...</td>\n",
       "      <td>...</td>\n",
       "      <td>...</td>\n",
       "      <td>...</td>\n",
       "      <td>...</td>\n",
       "    </tr>\n",
       "    <tr>\n",
       "      <th>1958</th>\n",
       "      <td>59</td>\n",
       "      <td>Sep 15, 2017</td>\n",
       "      <td>mother!</td>\n",
       "      <td>$30,000,000</td>\n",
       "      <td>$17,800,004</td>\n",
       "      <td>$42,531,076</td>\n",
       "    </tr>\n",
       "    <tr>\n",
       "      <th>697</th>\n",
       "      <td>98</td>\n",
       "      <td>Aug 9, 2002</td>\n",
       "      <td>xXx</td>\n",
       "      <td>$70,000,000</td>\n",
       "      <td>$141,930,000</td>\n",
       "      <td>$267,200,000</td>\n",
       "    </tr>\n",
       "    <tr>\n",
       "      <th>514</th>\n",
       "      <td>15</td>\n",
       "      <td>Jan 20, 2017</td>\n",
       "      <td>xXx: Return of Xander Cage</td>\n",
       "      <td>$85,000,000</td>\n",
       "      <td>$44,898,413</td>\n",
       "      <td>$345,033,359</td>\n",
       "    </tr>\n",
       "    <tr>\n",
       "      <th>4756</th>\n",
       "      <td>57</td>\n",
       "      <td>Apr 15, 2008</td>\n",
       "      <td>Ã l\\'intÃ©rieur</td>\n",
       "      <td>$3,000,000</td>\n",
       "      <td>$0</td>\n",
       "      <td>$895,932</td>\n",
       "    </tr>\n",
       "    <tr>\n",
       "      <th>2701</th>\n",
       "      <td>2</td>\n",
       "      <td>Mar 7, 2008</td>\n",
       "      <td>é·æ±ä¸è (CJ7)</td>\n",
       "      <td>$20,000,000</td>\n",
       "      <td>$206,678</td>\n",
       "      <td>$47,300,771</td>\n",
       "    </tr>\n",
       "  </tbody>\n",
       "</table>\n",
       "<p>5782 rows × 6 columns</p>\n",
       "</div>"
      ],
      "text/plain": [
       "      id  release_date                       movie production_budget  \\\n",
       "5115  16  Nov 20, 2015                     #Horror        $1,500,000   \n",
       "3954  55  Jul 17, 2009        (500) Days of Summer        $7,500,000   \n",
       "4253  54  Mar 11, 2016         10 Cloverfield Lane        $5,000,000   \n",
       "3447  48  Nov 11, 2015       10 Days in a Madhouse       $12,000,000   \n",
       "3262  63  Mar 31, 1999  10 Things I Hate About You       $13,000,000   \n",
       "...   ..           ...                         ...               ...   \n",
       "1958  59  Sep 15, 2017                     mother!       $30,000,000   \n",
       "697   98   Aug 9, 2002                         xXx       $70,000,000   \n",
       "514   15  Jan 20, 2017  xXx: Return of Xander Cage       $85,000,000   \n",
       "4756  57  Apr 15, 2008             Ã l\\'intÃ©rieur        $3,000,000   \n",
       "2701   2   Mar 7, 2008          é·æ±ä¸è (CJ7)       $20,000,000   \n",
       "\n",
       "     domestic_gross worldwide_gross  \n",
       "5115             $0              $0  \n",
       "3954    $32,425,665     $34,439,060  \n",
       "4253    $72,082,999    $108,286,422  \n",
       "3447        $14,616         $14,616  \n",
       "3262    $38,177,966     $60,413,950  \n",
       "...             ...             ...  \n",
       "1958    $17,800,004     $42,531,076  \n",
       "697    $141,930,000    $267,200,000  \n",
       "514     $44,898,413    $345,033,359  \n",
       "4756             $0        $895,932  \n",
       "2701       $206,678     $47,300,771  \n",
       "\n",
       "[5782 rows x 6 columns]"
      ]
     },
     "execution_count": 5,
     "metadata": {},
     "output_type": "execute_result"
    }
   ],
   "source": [
    "df_budgets"
   ]
  },
  {
   "cell_type": "code",
   "execution_count": 6,
   "id": "43b397c2",
   "metadata": {},
   "outputs": [
    {
     "name": "stdout",
     "output_type": "stream",
     "text": [
      "<class 'pandas.core.frame.DataFrame'>\n",
      "Int64Index: 5782 entries, 5115 to 2701\n",
      "Data columns (total 6 columns):\n",
      " #   Column             Non-Null Count  Dtype \n",
      "---  ------             --------------  ----- \n",
      " 0   id                 5782 non-null   int64 \n",
      " 1   release_date       5782 non-null   object\n",
      " 2   movie              5782 non-null   object\n",
      " 3   production_budget  5782 non-null   object\n",
      " 4   domestic_gross     5782 non-null   object\n",
      " 5   worldwide_gross    5782 non-null   object\n",
      "dtypes: int64(1), object(5)\n",
      "memory usage: 316.2+ KB\n"
     ]
    }
   ],
   "source": [
    "df_budgets.info()"
   ]
  },
  {
   "cell_type": "code",
   "execution_count": 7,
   "id": "db9bcfe9",
   "metadata": {},
   "outputs": [
    {
     "name": "stderr",
     "output_type": "stream",
     "text": [
      "/var/folders/yd/tybxdv4901xbv_l8x4p1g7tm0000gn/T/ipykernel_38607/96240506.py:1: FutureWarning: The default value of regex will change from True to False in a future version. In addition, single character regular expressions will *not* be treated as literal strings when regex=True.\n",
      "  df_budgets['production_budget'] = df_budgets['production_budget'].str.replace(r'$', '')\n"
     ]
    }
   ],
   "source": [
    "df_budgets['production_budget'] = df_budgets['production_budget'].str.replace(r'$', '')\n",
    "df_budgets['production_budget'] = df_budgets['production_budget'].str.replace(r',', '')\n",
    "df_budgets['production_budget'] = df_budgets['production_budget'].astype(int)"
   ]
  },
  {
   "cell_type": "code",
   "execution_count": 8,
   "id": "e918f375",
   "metadata": {},
   "outputs": [
    {
     "name": "stdout",
     "output_type": "stream",
     "text": [
      "<class 'pandas.core.frame.DataFrame'>\n",
      "Int64Index: 5782 entries, 5115 to 2701\n",
      "Data columns (total 6 columns):\n",
      " #   Column             Non-Null Count  Dtype \n",
      "---  ------             --------------  ----- \n",
      " 0   id                 5782 non-null   int64 \n",
      " 1   release_date       5782 non-null   object\n",
      " 2   movie              5782 non-null   object\n",
      " 3   production_budget  5782 non-null   int64 \n",
      " 4   domestic_gross     5782 non-null   object\n",
      " 5   worldwide_gross    5782 non-null   object\n",
      "dtypes: int64(2), object(4)\n",
      "memory usage: 316.2+ KB\n"
     ]
    }
   ],
   "source": [
    "df_budgets.info()"
   ]
  },
  {
   "cell_type": "code",
   "execution_count": 9,
   "id": "5694e4fd",
   "metadata": {},
   "outputs": [
    {
     "name": "stderr",
     "output_type": "stream",
     "text": [
      "/var/folders/yd/tybxdv4901xbv_l8x4p1g7tm0000gn/T/ipykernel_38607/3544728917.py:1: FutureWarning: The default value of regex will change from True to False in a future version. In addition, single character regular expressions will *not* be treated as literal strings when regex=True.\n",
      "  df_budgets['domestic_gross'] = df_budgets['domestic_gross'].str.replace(r'$', '')\n"
     ]
    }
   ],
   "source": [
    "df_budgets['domestic_gross'] = df_budgets['domestic_gross'].str.replace(r'$', '')\n",
    "df_budgets['domestic_gross'] = df_budgets['domestic_gross'].str.replace(r',', '')\n",
    "df_budgets['domestic_gross'] = df_budgets['domestic_gross'].astype(int)"
   ]
  },
  {
   "cell_type": "code",
   "execution_count": 10,
   "id": "7068c8df",
   "metadata": {},
   "outputs": [
    {
     "name": "stdout",
     "output_type": "stream",
     "text": [
      "<class 'pandas.core.frame.DataFrame'>\n",
      "Int64Index: 5782 entries, 5115 to 2701\n",
      "Data columns (total 6 columns):\n",
      " #   Column             Non-Null Count  Dtype \n",
      "---  ------             --------------  ----- \n",
      " 0   id                 5782 non-null   int64 \n",
      " 1   release_date       5782 non-null   object\n",
      " 2   movie              5782 non-null   object\n",
      " 3   production_budget  5782 non-null   int64 \n",
      " 4   domestic_gross     5782 non-null   int64 \n",
      " 5   worldwide_gross    5782 non-null   object\n",
      "dtypes: int64(3), object(3)\n",
      "memory usage: 316.2+ KB\n"
     ]
    }
   ],
   "source": [
    "df_budgets.info()"
   ]
  },
  {
   "cell_type": "code",
   "execution_count": 11,
   "id": "65187458",
   "metadata": {},
   "outputs": [
    {
     "name": "stderr",
     "output_type": "stream",
     "text": [
      "/var/folders/yd/tybxdv4901xbv_l8x4p1g7tm0000gn/T/ipykernel_38607/1886919089.py:1: FutureWarning: The default value of regex will change from True to False in a future version. In addition, single character regular expressions will *not* be treated as literal strings when regex=True.\n",
      "  df_budgets['worldwide_gross'] = df_budgets['worldwide_gross'].str.replace(r'$', '')\n"
     ]
    }
   ],
   "source": [
    "df_budgets['worldwide_gross'] = df_budgets['worldwide_gross'].str.replace(r'$', '')\n",
    "df_budgets['worldwide_gross'] = df_budgets['worldwide_gross'].str.replace(r',', '')\n",
    "df_budgets['worldwide_gross'] = df_budgets['worldwide_gross'].astype(int)"
   ]
  },
  {
   "cell_type": "code",
   "execution_count": 12,
   "id": "cc0c57f8",
   "metadata": {},
   "outputs": [
    {
     "name": "stdout",
     "output_type": "stream",
     "text": [
      "<class 'pandas.core.frame.DataFrame'>\n",
      "Int64Index: 5782 entries, 5115 to 2701\n",
      "Data columns (total 6 columns):\n",
      " #   Column             Non-Null Count  Dtype \n",
      "---  ------             --------------  ----- \n",
      " 0   id                 5782 non-null   int64 \n",
      " 1   release_date       5782 non-null   object\n",
      " 2   movie              5782 non-null   object\n",
      " 3   production_budget  5782 non-null   int64 \n",
      " 4   domestic_gross     5782 non-null   int64 \n",
      " 5   worldwide_gross    5782 non-null   int64 \n",
      "dtypes: int64(4), object(2)\n",
      "memory usage: 316.2+ KB\n"
     ]
    }
   ],
   "source": [
    "df_budgets.info()"
   ]
  },
  {
   "cell_type": "code",
   "execution_count": 13,
   "id": "13df3952",
   "metadata": {},
   "outputs": [],
   "source": [
    "# dropping 'release_date' since we are focusing on profits not dates, and dropping 'id'\n",
    "df_budgets = df_budgets.drop('release_date', axis=1) \n",
    "df_budgets = df_budgets.drop('id', axis=1)\n"
   ]
  },
  {
   "cell_type": "code",
   "execution_count": 14,
   "id": "13798317",
   "metadata": {},
   "outputs": [
    {
     "data": {
      "text/html": [
       "<div>\n",
       "<style scoped>\n",
       "    .dataframe tbody tr th:only-of-type {\n",
       "        vertical-align: middle;\n",
       "    }\n",
       "\n",
       "    .dataframe tbody tr th {\n",
       "        vertical-align: top;\n",
       "    }\n",
       "\n",
       "    .dataframe thead th {\n",
       "        text-align: right;\n",
       "    }\n",
       "</style>\n",
       "<table border=\"1\" class=\"dataframe\">\n",
       "  <thead>\n",
       "    <tr style=\"text-align: right;\">\n",
       "      <th></th>\n",
       "      <th>movie</th>\n",
       "      <th>production_budget</th>\n",
       "      <th>domestic_gross</th>\n",
       "      <th>worldwide_gross</th>\n",
       "    </tr>\n",
       "  </thead>\n",
       "  <tbody>\n",
       "    <tr>\n",
       "      <th>5115</th>\n",
       "      <td>#Horror</td>\n",
       "      <td>1500000</td>\n",
       "      <td>0</td>\n",
       "      <td>0</td>\n",
       "    </tr>\n",
       "    <tr>\n",
       "      <th>3954</th>\n",
       "      <td>(500) Days of Summer</td>\n",
       "      <td>7500000</td>\n",
       "      <td>32425665</td>\n",
       "      <td>34439060</td>\n",
       "    </tr>\n",
       "    <tr>\n",
       "      <th>4253</th>\n",
       "      <td>10 Cloverfield Lane</td>\n",
       "      <td>5000000</td>\n",
       "      <td>72082999</td>\n",
       "      <td>108286422</td>\n",
       "    </tr>\n",
       "    <tr>\n",
       "      <th>3447</th>\n",
       "      <td>10 Days in a Madhouse</td>\n",
       "      <td>12000000</td>\n",
       "      <td>14616</td>\n",
       "      <td>14616</td>\n",
       "    </tr>\n",
       "    <tr>\n",
       "      <th>3262</th>\n",
       "      <td>10 Things I Hate About You</td>\n",
       "      <td>13000000</td>\n",
       "      <td>38177966</td>\n",
       "      <td>60413950</td>\n",
       "    </tr>\n",
       "  </tbody>\n",
       "</table>\n",
       "</div>"
      ],
      "text/plain": [
       "                           movie  production_budget  domestic_gross  \\\n",
       "5115                     #Horror            1500000               0   \n",
       "3954        (500) Days of Summer            7500000        32425665   \n",
       "4253         10 Cloverfield Lane            5000000        72082999   \n",
       "3447       10 Days in a Madhouse           12000000           14616   \n",
       "3262  10 Things I Hate About You           13000000        38177966   \n",
       "\n",
       "      worldwide_gross  \n",
       "5115                0  \n",
       "3954         34439060  \n",
       "4253        108286422  \n",
       "3447            14616  \n",
       "3262         60413950  "
      ]
     },
     "execution_count": 14,
     "metadata": {},
     "output_type": "execute_result"
    }
   ],
   "source": [
    "df_budgets.head()"
   ]
  },
  {
   "cell_type": "code",
   "execution_count": 15,
   "id": "3e6e2014",
   "metadata": {},
   "outputs": [
    {
     "data": {
      "text/html": [
       "<div>\n",
       "<style scoped>\n",
       "    .dataframe tbody tr th:only-of-type {\n",
       "        vertical-align: middle;\n",
       "    }\n",
       "\n",
       "    .dataframe tbody tr th {\n",
       "        vertical-align: top;\n",
       "    }\n",
       "\n",
       "    .dataframe thead th {\n",
       "        text-align: right;\n",
       "    }\n",
       "</style>\n",
       "<table border=\"1\" class=\"dataframe\">\n",
       "  <thead>\n",
       "    <tr style=\"text-align: right;\">\n",
       "      <th></th>\n",
       "      <th>production_budget</th>\n",
       "      <th>domestic_gross</th>\n",
       "      <th>worldwide_gross</th>\n",
       "    </tr>\n",
       "  </thead>\n",
       "  <tbody>\n",
       "    <tr>\n",
       "      <th>count</th>\n",
       "      <td>5782.0</td>\n",
       "      <td>5782.0</td>\n",
       "      <td>5.782000e+03</td>\n",
       "    </tr>\n",
       "    <tr>\n",
       "      <th>mean</th>\n",
       "      <td>31587757.1</td>\n",
       "      <td>41873326.9</td>\n",
       "      <td>9.148746e+07</td>\n",
       "    </tr>\n",
       "    <tr>\n",
       "      <th>std</th>\n",
       "      <td>41812076.8</td>\n",
       "      <td>68240597.4</td>\n",
       "      <td>1.747200e+08</td>\n",
       "    </tr>\n",
       "    <tr>\n",
       "      <th>min</th>\n",
       "      <td>1100.0</td>\n",
       "      <td>0.0</td>\n",
       "      <td>0.000000e+00</td>\n",
       "    </tr>\n",
       "    <tr>\n",
       "      <th>25%</th>\n",
       "      <td>5000000.0</td>\n",
       "      <td>1429534.5</td>\n",
       "      <td>4.125415e+06</td>\n",
       "    </tr>\n",
       "    <tr>\n",
       "      <th>50%</th>\n",
       "      <td>17000000.0</td>\n",
       "      <td>17225945.0</td>\n",
       "      <td>2.798445e+07</td>\n",
       "    </tr>\n",
       "    <tr>\n",
       "      <th>75%</th>\n",
       "      <td>40000000.0</td>\n",
       "      <td>52348661.5</td>\n",
       "      <td>9.764584e+07</td>\n",
       "    </tr>\n",
       "    <tr>\n",
       "      <th>max</th>\n",
       "      <td>425000000.0</td>\n",
       "      <td>936662225.0</td>\n",
       "      <td>2.776345e+09</td>\n",
       "    </tr>\n",
       "  </tbody>\n",
       "</table>\n",
       "</div>"
      ],
      "text/plain": [
       "       production_budget  domestic_gross  worldwide_gross\n",
       "count             5782.0          5782.0     5.782000e+03\n",
       "mean          31587757.1      41873326.9     9.148746e+07\n",
       "std           41812076.8      68240597.4     1.747200e+08\n",
       "min               1100.0             0.0     0.000000e+00\n",
       "25%            5000000.0       1429534.5     4.125415e+06\n",
       "50%           17000000.0      17225945.0     2.798445e+07\n",
       "75%           40000000.0      52348661.5     9.764584e+07\n",
       "max          425000000.0     936662225.0     2.776345e+09"
      ]
     },
     "execution_count": 15,
     "metadata": {},
     "output_type": "execute_result"
    }
   ],
   "source": [
    "np.round(df_budgets.describe(), decimals=1)"
   ]
  },
  {
   "cell_type": "code",
   "execution_count": 16,
   "id": "22b88100",
   "metadata": {},
   "outputs": [],
   "source": [
    "# only looking at the top 25% of profitable domestic movies \n",
    "df_budgets = df_budgets[df_budgets['domestic_gross'] > 52348661.5]"
   ]
  },
  {
   "cell_type": "code",
   "execution_count": 17,
   "id": "87233405",
   "metadata": {},
   "outputs": [
    {
     "data": {
      "text/html": [
       "<div>\n",
       "<style scoped>\n",
       "    .dataframe tbody tr th:only-of-type {\n",
       "        vertical-align: middle;\n",
       "    }\n",
       "\n",
       "    .dataframe tbody tr th {\n",
       "        vertical-align: top;\n",
       "    }\n",
       "\n",
       "    .dataframe thead th {\n",
       "        text-align: right;\n",
       "    }\n",
       "</style>\n",
       "<table border=\"1\" class=\"dataframe\">\n",
       "  <thead>\n",
       "    <tr style=\"text-align: right;\">\n",
       "      <th></th>\n",
       "      <th>movie</th>\n",
       "      <th>production_budget</th>\n",
       "      <th>domestic_gross</th>\n",
       "      <th>worldwide_gross</th>\n",
       "    </tr>\n",
       "  </thead>\n",
       "  <tbody>\n",
       "    <tr>\n",
       "      <th>4253</th>\n",
       "      <td>10 Cloverfield Lane</td>\n",
       "      <td>5000000</td>\n",
       "      <td>72082999</td>\n",
       "      <td>108286422</td>\n",
       "    </tr>\n",
       "    <tr>\n",
       "      <th>350</th>\n",
       "      <td>10,000 B.C.</td>\n",
       "      <td>105000000</td>\n",
       "      <td>94784201</td>\n",
       "      <td>269065678</td>\n",
       "    </tr>\n",
       "    <tr>\n",
       "      <th>505</th>\n",
       "      <td>102 Dalmatians</td>\n",
       "      <td>85000000</td>\n",
       "      <td>66941559</td>\n",
       "      <td>66941559</td>\n",
       "    </tr>\n",
       "    <tr>\n",
       "      <th>2017</th>\n",
       "      <td>12 Monkeys</td>\n",
       "      <td>29000000</td>\n",
       "      <td>57141459</td>\n",
       "      <td>168841459</td>\n",
       "    </tr>\n",
       "    <tr>\n",
       "      <th>2517</th>\n",
       "      <td>12 Years a Slave</td>\n",
       "      <td>20000000</td>\n",
       "      <td>56671993</td>\n",
       "      <td>181025343</td>\n",
       "    </tr>\n",
       "  </tbody>\n",
       "</table>\n",
       "</div>"
      ],
      "text/plain": [
       "                    movie  production_budget  domestic_gross  worldwide_gross\n",
       "4253  10 Cloverfield Lane            5000000        72082999        108286422\n",
       "350           10,000 B.C.          105000000        94784201        269065678\n",
       "505        102 Dalmatians           85000000        66941559         66941559\n",
       "2017           12 Monkeys           29000000        57141459        168841459\n",
       "2517     12 Years a Slave           20000000        56671993        181025343"
      ]
     },
     "execution_count": 17,
     "metadata": {},
     "output_type": "execute_result"
    }
   ],
   "source": [
    "df_budgets.head()"
   ]
  },
  {
   "cell_type": "code",
   "execution_count": 18,
   "id": "1a3d0b66",
   "metadata": {},
   "outputs": [],
   "source": [
    "# rounding out by 5 decimal places\n",
    "df_budgets['domestic_gross'] = df_budgets['domestic_gross'].round(decimals=-5)\n",
    "df_budgets['worldwide_gross'] = df_budgets['worldwide_gross'].round(decimals=-5)"
   ]
  },
  {
   "cell_type": "code",
   "execution_count": 19,
   "id": "94c0f89a",
   "metadata": {},
   "outputs": [
    {
     "data": {
      "text/plain": [
       "False"
      ]
     },
     "execution_count": 19,
     "metadata": {},
     "output_type": "execute_result"
    }
   ],
   "source": [
    "# dropping duplicates\n",
    "df_budgets = df_budgets.drop_duplicates(subset='movie')\n",
    "boolean = df_budgets['movie'].duplicated().any()\n",
    "boolean"
   ]
  },
  {
   "cell_type": "code",
   "execution_count": 20,
   "id": "48f9b7ef",
   "metadata": {},
   "outputs": [],
   "source": [
    "# renaming the movie column to 'title'\n",
    "df_budgets.rename(columns = {'movie' : 'title'}, inplace=True)"
   ]
  },
  {
   "cell_type": "code",
   "execution_count": 21,
   "id": "05339176",
   "metadata": {},
   "outputs": [
    {
     "data": {
      "text/html": [
       "<div>\n",
       "<style scoped>\n",
       "    .dataframe tbody tr th:only-of-type {\n",
       "        vertical-align: middle;\n",
       "    }\n",
       "\n",
       "    .dataframe tbody tr th {\n",
       "        vertical-align: top;\n",
       "    }\n",
       "\n",
       "    .dataframe thead th {\n",
       "        text-align: right;\n",
       "    }\n",
       "</style>\n",
       "<table border=\"1\" class=\"dataframe\">\n",
       "  <thead>\n",
       "    <tr style=\"text-align: right;\">\n",
       "      <th></th>\n",
       "      <th>title</th>\n",
       "      <th>production_budget</th>\n",
       "      <th>domestic_gross</th>\n",
       "      <th>worldwide_gross</th>\n",
       "    </tr>\n",
       "  </thead>\n",
       "  <tbody>\n",
       "    <tr>\n",
       "      <th>4253</th>\n",
       "      <td>10 Cloverfield Lane</td>\n",
       "      <td>5000000</td>\n",
       "      <td>72100000</td>\n",
       "      <td>108300000</td>\n",
       "    </tr>\n",
       "    <tr>\n",
       "      <th>350</th>\n",
       "      <td>10,000 B.C.</td>\n",
       "      <td>105000000</td>\n",
       "      <td>94800000</td>\n",
       "      <td>269100000</td>\n",
       "    </tr>\n",
       "    <tr>\n",
       "      <th>505</th>\n",
       "      <td>102 Dalmatians</td>\n",
       "      <td>85000000</td>\n",
       "      <td>66900000</td>\n",
       "      <td>66900000</td>\n",
       "    </tr>\n",
       "    <tr>\n",
       "      <th>2017</th>\n",
       "      <td>12 Monkeys</td>\n",
       "      <td>29000000</td>\n",
       "      <td>57100000</td>\n",
       "      <td>168800000</td>\n",
       "    </tr>\n",
       "    <tr>\n",
       "      <th>2517</th>\n",
       "      <td>12 Years a Slave</td>\n",
       "      <td>20000000</td>\n",
       "      <td>56700000</td>\n",
       "      <td>181000000</td>\n",
       "    </tr>\n",
       "    <tr>\n",
       "      <th>...</th>\n",
       "      <td>...</td>\n",
       "      <td>...</td>\n",
       "      <td>...</td>\n",
       "      <td>...</td>\n",
       "    </tr>\n",
       "    <tr>\n",
       "      <th>1065</th>\n",
       "      <td>Zero Dark Thirty</td>\n",
       "      <td>52500000</td>\n",
       "      <td>95700000</td>\n",
       "      <td>134600000</td>\n",
       "    </tr>\n",
       "    <tr>\n",
       "      <th>2366</th>\n",
       "      <td>Zombieland</td>\n",
       "      <td>23600000</td>\n",
       "      <td>75600000</td>\n",
       "      <td>102200000</td>\n",
       "    </tr>\n",
       "    <tr>\n",
       "      <th>570</th>\n",
       "      <td>Zookeeper</td>\n",
       "      <td>80000000</td>\n",
       "      <td>80400000</td>\n",
       "      <td>170800000</td>\n",
       "    </tr>\n",
       "    <tr>\n",
       "      <th>156</th>\n",
       "      <td>Zootopia</td>\n",
       "      <td>150000000</td>\n",
       "      <td>341300000</td>\n",
       "      <td>1019400000</td>\n",
       "    </tr>\n",
       "    <tr>\n",
       "      <th>697</th>\n",
       "      <td>xXx</td>\n",
       "      <td>70000000</td>\n",
       "      <td>141900000</td>\n",
       "      <td>267200000</td>\n",
       "    </tr>\n",
       "  </tbody>\n",
       "</table>\n",
       "<p>1431 rows × 4 columns</p>\n",
       "</div>"
      ],
      "text/plain": [
       "                    title  production_budget  domestic_gross  worldwide_gross\n",
       "4253  10 Cloverfield Lane            5000000        72100000        108300000\n",
       "350           10,000 B.C.          105000000        94800000        269100000\n",
       "505        102 Dalmatians           85000000        66900000         66900000\n",
       "2017           12 Monkeys           29000000        57100000        168800000\n",
       "2517     12 Years a Slave           20000000        56700000        181000000\n",
       "...                   ...                ...             ...              ...\n",
       "1065     Zero Dark Thirty           52500000        95700000        134600000\n",
       "2366           Zombieland           23600000        75600000        102200000\n",
       "570             Zookeeper           80000000        80400000        170800000\n",
       "156              Zootopia          150000000       341300000       1019400000\n",
       "697                   xXx           70000000       141900000        267200000\n",
       "\n",
       "[1431 rows x 4 columns]"
      ]
     },
     "execution_count": 21,
     "metadata": {},
     "output_type": "execute_result"
    }
   ],
   "source": [
    "df_budgets"
   ]
  },
  {
   "cell_type": "code",
   "execution_count": 22,
   "id": "eb04eb09",
   "metadata": {},
   "outputs": [
    {
     "name": "stdout",
     "output_type": "stream",
     "text": [
      "<class 'pandas.core.frame.DataFrame'>\n",
      "Int64Index: 1431 entries, 4253 to 697\n",
      "Data columns (total 4 columns):\n",
      " #   Column             Non-Null Count  Dtype \n",
      "---  ------             --------------  ----- \n",
      " 0   title              1431 non-null   object\n",
      " 1   production_budget  1431 non-null   int64 \n",
      " 2   domestic_gross     1431 non-null   int64 \n",
      " 3   worldwide_gross    1431 non-null   int64 \n",
      "dtypes: int64(3), object(1)\n",
      "memory usage: 55.9+ KB\n"
     ]
    }
   ],
   "source": [
    "df_budgets.info()"
   ]
  },
  {
   "cell_type": "code",
   "execution_count": 23,
   "id": "9e5650f7",
   "metadata": {},
   "outputs": [],
   "source": [
    "# saving the df_budgets to be moved to student.ipynb\n",
    "df_budgets.to_csv('df_budgets.csv')"
   ]
  }
 ],
 "metadata": {
  "kernelspec": {
   "display_name": "Python 3 (ipykernel)",
   "language": "python",
   "name": "python3"
  },
  "language_info": {
   "codemirror_mode": {
    "name": "ipython",
    "version": 3
   },
   "file_extension": ".py",
   "mimetype": "text/x-python",
   "name": "python",
   "nbconvert_exporter": "python",
   "pygments_lexer": "ipython3",
   "version": "3.10.9"
  }
 },
 "nbformat": 4,
 "nbformat_minor": 5
}
